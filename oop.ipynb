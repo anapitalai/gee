{
  "nbformat": 4,
  "nbformat_minor": 0,
  "metadata": {
    "colab": {
      "provenance": [],
      "authorship_tag": "ABX9TyMDVz+5Bx5rqWmoISAWR24h",
      "include_colab_link": true
    },
    "kernelspec": {
      "name": "python3",
      "display_name": "Python 3"
    },
    "language_info": {
      "name": "python"
    }
  },
  "cells": [
    {
      "cell_type": "markdown",
      "metadata": {
        "id": "view-in-github",
        "colab_type": "text"
      },
      "source": [
        "<a href=\"https://colab.research.google.com/github/anapitalai/gee/blob/main/oop.ipynb\" target=\"_parent\"><img src=\"https://colab.research.google.com/assets/colab-badge.svg\" alt=\"Open In Colab\"/></a>"
      ]
    },
    {
      "cell_type": "markdown",
      "source": [
        "Object\n",
        "classes\n",
        "Attributes\n",
        "Methods\n",
        "Encapsulation\n",
        "Inheritance"
      ],
      "metadata": {
        "id": "9O8y_JJsrElv"
      }
    },
    {
      "cell_type": "code",
      "execution_count": 1,
      "metadata": {
        "id": "ww1TdoB2pIjJ"
      },
      "outputs": [],
      "source": [
        "class Benchmark:\n",
        "  def __init__(self, name, latitude,longitude):\n",
        "    self.name = name\n",
        "    self.latitude=latitude\n",
        "    self.longitude=longitude\n",
        "  def get_coordinates(self):\n",
        "    return (self.latitude,self.longitude)"
      ]
    },
    {
      "cell_type": "code",
      "source": [
        "bm1=Benchmark(\"bm1\",-6.699,146.64)\n",
        "print(bm1.get_name())\n"
      ],
      "metadata": {
        "colab": {
          "base_uri": "https://localhost:8080/",
          "height": 197
        },
        "collapsed": true,
        "id": "b4Jy93orqZJe",
        "outputId": "98b19f94-5904-4465-b909-4563c821473d"
      },
      "execution_count": 8,
      "outputs": [
        {
          "output_type": "stream",
          "name": "stdout",
          "text": [
            "bm1\n"
          ]
        },
        {
          "output_type": "error",
          "ename": "AttributeError",
          "evalue": "'Benchmark' object has no attribute 'get_coordinates'",
          "traceback": [
            "\u001b[0;31m---------------------------------------------------------------------------\u001b[0m",
            "\u001b[0;31mAttributeError\u001b[0m                            Traceback (most recent call last)",
            "\u001b[0;32m<ipython-input-8-c3d66047553e>\u001b[0m in \u001b[0;36m<cell line: 0>\u001b[0;34m()\u001b[0m\n\u001b[1;32m      1\u001b[0m \u001b[0mbm1\u001b[0m\u001b[0;34m=\u001b[0m\u001b[0mBenchmark\u001b[0m\u001b[0;34m(\u001b[0m\u001b[0;34m\"bm1\"\u001b[0m\u001b[0;34m,\u001b[0m\u001b[0;34m-\u001b[0m\u001b[0;36m6.699\u001b[0m\u001b[0;34m,\u001b[0m\u001b[0;36m146.64\u001b[0m\u001b[0;34m)\u001b[0m\u001b[0;34m\u001b[0m\u001b[0;34m\u001b[0m\u001b[0m\n\u001b[1;32m      2\u001b[0m \u001b[0mprint\u001b[0m\u001b[0;34m(\u001b[0m\u001b[0mbm1\u001b[0m\u001b[0;34m.\u001b[0m\u001b[0mget_name\u001b[0m\u001b[0;34m(\u001b[0m\u001b[0;34m)\u001b[0m\u001b[0;34m)\u001b[0m\u001b[0;34m\u001b[0m\u001b[0;34m\u001b[0m\u001b[0m\n\u001b[0;32m----> 3\u001b[0;31m \u001b[0mprint\u001b[0m\u001b[0;34m(\u001b[0m\u001b[0mbm1\u001b[0m\u001b[0;34m.\u001b[0m\u001b[0mget_coordinates\u001b[0m\u001b[0;34m(\u001b[0m\u001b[0;34m)\u001b[0m\u001b[0;34m)\u001b[0m\u001b[0;34m\u001b[0m\u001b[0;34m\u001b[0m\u001b[0m\n\u001b[0m",
            "\u001b[0;31mAttributeError\u001b[0m: 'Benchmark' object has no attribute 'get_coordinates'"
          ]
        }
      ]
    }
  ]
}