{
  "nbformat": 4,
  "nbformat_minor": 0,
  "metadata": {
    "colab": {
      "provenance": [],
      "authorship_tag": "ABX9TyMeQyJJvmT+6ySdhifZdCgQ",
      "include_colab_link": true
    },
    "kernelspec": {
      "name": "python3",
      "display_name": "Python 3"
    },
    "language_info": {
      "name": "python"
    }
  },
  "cells": [
    {
      "cell_type": "markdown",
      "metadata": {
        "id": "view-in-github",
        "colab_type": "text"
      },
      "source": [
        "<a href=\"https://colab.research.google.com/github/anapitalai/gee/blob/main/oop.ipynb\" target=\"_parent\"><img src=\"https://colab.research.google.com/assets/colab-badge.svg\" alt=\"Open In Colab\"/></a>"
      ]
    },
    {
      "cell_type": "markdown",
      "source": [],
      "metadata": {
        "id": "1NHG_9iYuuGI"
      }
    },
    {
      "cell_type": "markdown",
      "source": [
        "**Object Oriented Programming(OOP)**\n",
        "\n",
        "1. OOP is a paradigm of programming\n",
        "2.   \n",
        "\n"
      ],
      "metadata": {
        "id": "dqDfEXluuxrz"
      }
    },
    {
      "cell_type": "markdown",
      "source": [
        "1. Object are types of the class\n",
        "2. Classes are blueprints.\n",
        "3. Attributes are properties of objects\n",
        "4. Methods are functions in a  class\n",
        "5. Encapsulation\n",
        "6. Inheritance"
      ],
      "metadata": {
        "id": "9O8y_JJsrElv"
      }
    },
    {
      "cell_type": "code",
      "execution_count": 1,
      "metadata": {
        "id": "ww1TdoB2pIjJ"
      },
      "outputs": [],
      "source": [
        "class Benchmark:\n",
        "  #constructor function\n",
        "  def __init__(self, name, latitude,longitude): #name,latitude and longitude are known as parameters\n",
        "    self.name = name\n",
        "    self.latitude=latitude\n",
        "    self.longitude=longitude\n",
        "\n",
        "  def get_coordinates(self):\n",
        "    return (self.latitude,self.longitude)\n",
        "\n",
        "  def get_name(self):\n",
        "    return self.name"
      ]
    },
    {
      "cell_type": "code",
      "source": [
        "bm1=Benchmark(\"bm1\",-6.699,146.64) #bm1 is known as an argument\n",
        "\n",
        "print(bm1.get_coordinates())\n",
        "print(bm1.get_name())\n"
      ],
      "metadata": {
        "colab": {
          "base_uri": "https://localhost:8080/"
        },
        "collapsed": true,
        "id": "b4Jy93orqZJe",
        "outputId": "a0131553-6771-48f6-cce6-16017f75408d"
      },
      "execution_count": 2,
      "outputs": [
        {
          "output_type": "stream",
          "name": "stdout",
          "text": [
            "(-6.699, 146.64)\n",
            "bm1\n"
          ]
        }
      ]
    }
  ]
}