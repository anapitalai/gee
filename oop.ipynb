{
  "nbformat": 4,
  "nbformat_minor": 0,
  "metadata": {
    "colab": {
      "provenance": [],
      "authorship_tag": "ABX9TyPYrgLcy3+jPIawAKACtZZH",
      "include_colab_link": true
    },
    "kernelspec": {
      "name": "python3",
      "display_name": "Python 3"
    },
    "language_info": {
      "name": "python"
    }
  },
  "cells": [
    {
      "cell_type": "markdown",
      "metadata": {
        "id": "view-in-github",
        "colab_type": "text"
      },
      "source": [
        "<a href=\"https://colab.research.google.com/github/anapitalai/gee/blob/main/oop.ipynb\" target=\"_parent\"><img src=\"https://colab.research.google.com/assets/colab-badge.svg\" alt=\"Open In Colab\"/></a>"
      ]
    },
    {
      "cell_type": "markdown",
      "source": [
        "**Pillar of Object Oriented Programming(OOP)**\n",
        "\n",
        "1. Encapsulation-hiding the inner details of a class or of certain data and you only\n",
        "need to share or expose what is needed.Getters and setters give us access to the\n",
        "data.\n",
        "2. Inheritance\n",
        "3. Polymorphism\n",
        "\n"
      ],
      "metadata": {
        "id": "dqDfEXluuxrz"
      }
    },
    {
      "cell_type": "markdown",
      "source": [
        "1. Object are types of the class\n",
        "2. Classes are blueprints.\n",
        "3. Attributes are properties of objects\n",
        "4. Methods are functions in a  class\n",
        "5. Encapsulation\n",
        "6. Inheritance"
      ],
      "metadata": {
        "id": "9O8y_JJsrElv"
      }
    },
    {
      "cell_type": "code",
      "execution_count": 4,
      "metadata": {
        "id": "ww1TdoB2pIjJ"
      },
      "outputs": [],
      "source": [
        "class Benchmark:\n",
        "  #constructor function(__init__)\n",
        "  def __init__(self, name, latitude,longitude): #name,latitude and longitude are known as parameters\n",
        "    self.name = name\n",
        "    self.latitude=latitude\n",
        "    self.longitude=longitude\n",
        "\n",
        "  #properties\n",
        "  @property\n",
        "  def name(self):\n",
        "    return self.__name\n",
        "  @name.setter\n",
        "  def name(self,name):\n",
        "    self.__name=name\n",
        "\n",
        "  def get_coordinates(self):\n",
        "    return (self.latitude,self.longitude)\n",
        "\n",
        "  def get_name(self):\n",
        "    return self.name\n",
        "\n",
        "  #Importance of the __str__ method, it is invoked everytime we want to\n",
        "  #convert a  customer to a string.If it is not include and we print a class\n",
        "  #object it prints the memory location(<__main__.Benchmark object at 0x7c0c95edead0>)\n",
        "  #instead of the string information\n",
        "  def __str__(self):\n",
        "    return f\"{self.name} is located at {self.latitude},{self.longitude}\""
      ]
    },
    {
      "cell_type": "markdown",
      "source": [],
      "metadata": {
        "id": "C-y0E2qDVwcR"
      }
    },
    {
      "cell_type": "code",
      "source": [
        "bm1=Benchmark(\"bm1\",-6.699,146.64) #bm1 is known as an argument\n",
        "\n",
        "print(bm1.get_coordinates())\n",
        "print(bm1.get_name())\n",
        "print(bm1)"
      ],
      "metadata": {
        "colab": {
          "base_uri": "https://localhost:8080/"
        },
        "collapsed": true,
        "id": "b4Jy93orqZJe",
        "outputId": "10fa8ebd-e69b-4aea-e17c-59d980ccfaf9"
      },
      "execution_count": 5,
      "outputs": [
        {
          "output_type": "stream",
          "name": "stdout",
          "text": [
            "(-6.699, 146.64)\n",
            "bm1\n",
            "<__main__.Benchmark object at 0x7c0c95edead0>\n"
          ]
        }
      ]
    }
  ]
}