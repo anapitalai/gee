{
  "nbformat": 4,
  "nbformat_minor": 0,
  "metadata": {
    "colab": {
      "provenance": [],
      "authorship_tag": "ABX9TyMehi3tS1l8+aLtaMle4P3z",
      "include_colab_link": true
    },
    "kernelspec": {
      "name": "python3",
      "display_name": "Python 3"
    },
    "language_info": {
      "name": "python"
    }
  },
  "cells": [
    {
      "cell_type": "markdown",
      "metadata": {
        "id": "view-in-github",
        "colab_type": "text"
      },
      "source": [
        "<a href=\"https://colab.research.google.com/github/anapitalai/gee/blob/main/traditional_ml.ipynb\" target=\"_parent\"><img src=\"https://colab.research.google.com/assets/colab-badge.svg\" alt=\"Open In Colab\"/></a>"
      ]
    },
    {
      "cell_type": "code",
      "source": [
        "import numpy as np\n",
        "import matplotlib.pyplot as plt\n",
        "from sklearn import linear_model\n",
        "\n",
        "\n",
        "time = np.array([0, 0, 0.5, 1, 1.5,2,2.5,3,3.5,4,4.5,5])\n",
        "cells = np.array([200,205,255,238,240,248,260,265,283,301,305,309])\n",
        "\n",
        "linear_regression_model=linear_model.LinearRegression()\n",
        "linear_regression_model.fit(time.reshape(-1,1),cells)\n",
        "\n",
        "print(linear_regression_model.coef_)\n",
        "print(linear_regression_model.intercept_)\n",
        "\n",
        "# plt.xlabel=time\n",
        "# plt.ylabel=cells\n",
        "# plt.scatter(time,cells,color='red',marker='+')\n",
        "# plt.show()\n"
      ],
      "metadata": {
        "colab": {
          "base_uri": "https://localhost:8080/"
        },
        "id": "J4DD25N8I30o",
        "outputId": "a8a64371-9081-4f6c-d938-497f678ead26",
        "collapsed": true
      },
      "execution_count": 7,
      "outputs": [
        {
          "output_type": "stream",
          "name": "stdout",
          "text": [
            "[19.67272727]\n",
            "213.99999999999997\n"
          ]
        }
      ]
    }
  ]
}