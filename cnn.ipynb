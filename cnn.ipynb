{
  "nbformat": 4,
  "nbformat_minor": 0,
  "metadata": {
    "colab": {
      "provenance": [],
      "authorship_tag": "ABX9TyNGXe+u51Qav29d7foxl7Lq",
      "include_colab_link": true
    },
    "kernelspec": {
      "name": "python3",
      "display_name": "Python 3"
    },
    "language_info": {
      "name": "python"
    }
  },
  "cells": [
    {
      "cell_type": "markdown",
      "metadata": {
        "id": "view-in-github",
        "colab_type": "text"
      },
      "source": [
        "<a href=\"https://colab.research.google.com/github/anapitalai/gee/blob/main/cnn.ipynb\" target=\"_parent\"><img src=\"https://colab.research.google.com/assets/colab-badge.svg\" alt=\"Open In Colab\"/></a>"
      ]
    },
    {
      "cell_type": "code",
      "execution_count": 1,
      "metadata": {
        "id": "AruIF4aqXGIl"
      },
      "outputs": [],
      "source": [
        "import numpy as np\n",
        "\n",
        "#Set the `numpy` pseudo-random generator at a fixed value\n",
        "#This helps with repeatable results everytime you run the code.\n",
        "np.random.seed(1000)\n",
        "\n",
        "import matplotlib.pyplot as plt\n",
        "import os\n",
        "import cv2\n",
        "from PIL import Image\n",
        "import keras\n",
        "\n",
        "os.environ['KERAS_BACKEND'] = 'tensorflow' # Added to set the backend as Tensorflow\n",
        "#We can also set it to Theano if we want.\n",
        "\n",
        "\n",
        "#Iterate through all images in Parasitized folder, resize to 64 x 64\n",
        "#Then save as numpy array with name 'dataset'\n",
        "#Set the label to this as 0"
      ]
    },
    {
      "cell_type": "code",
      "source": [
        "#Apply CNN\n",
        "# ### Build the model\n",
        "\n",
        "#############################################################\n",
        "###2 conv and pool layers. with some normalization and drops in between.\n",
        "\n",
        "INPUT_SHAPE = (SIZE, SIZE, 3)   #change to (SIZE, SIZE, 3)\n",
        "inp = keras.layers.Input(shape=INPUT_SHAPE)\n",
        "\n",
        "conv1 = keras.layers.Conv2D(32, kernel_size=(3, 3),\n",
        "                               activation='relu', padding='same')(inp)\n",
        "pool1 = keras.layers.MaxPooling2D(pool_size=(2, 2))(conv1)\n",
        "norm1 = keras.layers.BatchNormalization(axis = -1)(pool1)\n",
        "drop1 = keras.layers.Dropout(rate=0.2)(norm1)\n",
        "conv2 = keras.layers.Conv2D(32, kernel_size=(3, 3),\n",
        "                               activation='relu', padding='same')(drop1)\n",
        "pool2 = keras.layers.MaxPooling2D(pool_size=(2, 2))(conv2)\n",
        "norm2 = keras.layers.BatchNormalization(axis = -1)(pool2)\n",
        "drop2 = keras.layers.Dropout(rate=0.2)(norm2)\n",
        "\n",
        "flat = keras.layers.Flatten()(drop2)  #Flatten the matrix to get it ready for dense.\n",
        "\n",
        "hidden1 = keras.layers.Dense(512, activation='relu')(flat)\n",
        "norm3 = keras.layers.BatchNormalization(axis = -1)(hidden1)\n",
        "drop3 = keras.layers.Dropout(rate=0.2)(norm3)\n",
        "hidden2 = keras.layers.Dense(256, activation='relu')(drop3)\n",
        "norm4 = keras.layers.BatchNormalization(axis = -1)(hidden2)\n",
        "drop4 = keras.layers.Dropout(rate=0.2)(norm4)\n",
        "\n",
        "out = keras.layers.Dense(2, activation='sigmoid')(drop4)   #units=1 gives error\n",
        "\n",
        "model = keras.Model(inputs=inp, outputs=out)\n",
        "model.compile(optimizer='adam',\n",
        "                loss='categorical_crossentropy',   #Check between binary_crossentropy and categorical_crossentropy\n",
        "                metrics=['accuracy'])\n",
        "print(model.summary())\n",
        "\n",
        "\n",
        "###############################################################"
      ],
      "metadata": {
        "id": "h8VMertBYQDU"
      },
      "execution_count": null,
      "outputs": []
    }
  ]
}